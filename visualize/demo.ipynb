{
 "cells": [
  {
   "cell_type": "code",
   "execution_count": 14,
   "metadata": {},
   "outputs": [],
   "source": [
    "import librosa\n",
    "import numpy as np\n",
    "import matplotlib.pyplot as plt"
   ]
  },
  {
   "cell_type": "code",
   "execution_count": 22,
   "metadata": {},
   "outputs": [],
   "source": [
    "# Load Audio File\n",
    "wav, sr = librosa.load('pubg_clip.wav')\n",
    "\n",
    "# Down Sample Audio File\n",
    "wav_down = librosa.resample(wav, sr, target_sr=16000)"
   ]
  },
  {
   "cell_type": "code",
   "execution_count": 25,
   "metadata": {},
   "outputs": [
    {
     "name": "stdout",
     "output_type": "stream",
     "text": [
      "[[    0     1     2 ...  7997  7998  7999]\n",
      " [  400   401   402 ...  8397  8398  8399]\n",
      " [  800   801   802 ...  8797  8798  8799]\n",
      " ...\n",
      " [ 7200  7201  7202 ... 15197 15198 15199]\n",
      " [ 7600  7601  7602 ... 15597 15598 15599]\n",
      " [ 8000  8001  8002 ... 15997 15998 15999]]\n"
     ]
    }
   ],
   "source": [
    "import librosa\n",
    "import numpy as np\n",
    "\n",
    "x = np.arange(0, 16000)\n",
    "frame_len, hop_len = 8000, 400\n",
    "frames = librosa.util.frame(x, frame_length=frame_len, hop_length=hop_len).T\n",
    "print(frames)"
   ]
  },
  {
   "cell_type": "code",
   "execution_count": null,
   "metadata": {},
   "outputs": [],
   "source": [
    "windowed_frames = np.hanning(frame_len).reshape(-1, 1)*frames\n",
    "# Print windowed frames\n",
    "for i, frame in enumerate(windowed_frames):\n",
    "    print(\"Win Frame {}: {}\".format(i, np.round(frame, 3)))"
   ]
  },
  {
   "cell_type": "code",
   "execution_count": null,
   "metadata": {},
   "outputs": [],
   "source": []
  }
 ],
 "metadata": {
  "interpreter": {
   "hash": "805388628e5383014e18fff5c1fb5fcc61cdda7e6dcc12eb85f210dd43d4b27b"
  },
  "kernelspec": {
   "display_name": "Python 3.9.7 64-bit ('base': conda)",
   "language": "python",
   "name": "python3"
  },
  "language_info": {
   "codemirror_mode": {
    "name": "ipython",
    "version": 3
   },
   "file_extension": ".py",
   "mimetype": "text/x-python",
   "name": "python",
   "nbconvert_exporter": "python",
   "pygments_lexer": "ipython3",
   "version": "3.9.7"
  },
  "orig_nbformat": 4
 },
 "nbformat": 4,
 "nbformat_minor": 2
}
